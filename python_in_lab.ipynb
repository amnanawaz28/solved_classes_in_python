{
 "cells": [
  {
   "cell_type": "code",
   "execution_count": 5,
   "id": "4d67abae",
   "metadata": {},
   "outputs": [
    {
     "name": "stdout",
     "output_type": "stream",
     "text": [
      "Name: amna\n",
      "Age: 20\n",
      "City: mbdin\n"
     ]
    }
   ],
   "source": [
    "# question no 1:\n",
    "class Person:\n",
    "    def __init__(self, name, age, city):\n",
    "        self.name = name  \n",
    "        self.age = age    \n",
    "        self.city = city  \n",
    "    def display_info(self):\n",
    "        print(f\"Name: {self.name}\")\n",
    "        print(f\"Age: {self.age}\")\n",
    "        print(f\"City: {self.city}\")\n",
    "person1 = Person(\"amna\", 20, \"mbdin\")\n",
    "person1.display_info()\n"
   ]
  },
  {
   "cell_type": "code",
   "execution_count": 7,
   "id": "84e81225",
   "metadata": {},
   "outputs": [
    {
     "name": "stdout",
     "output_type": "stream",
     "text": [
      "model: honda civic\n",
      "year: 2024\n"
     ]
    }
   ],
   "source": [
    "# question no 2:\n",
    "class cars:\n",
    "    def __init__(self,model,year):\n",
    "        self.model = model\n",
    "        self.year = year\n",
    "    def display_info(self):\n",
    "        print(f\"model: {self.model}\")\n",
    "        print(f\"year: {self.year}\")\n",
    "my_car = cars(\"honda civic\",2024)\n",
    "my_car.display_info()"
   ]
  },
  {
   "cell_type": "code",
   "execution_count": 11,
   "id": "c7b47df7",
   "metadata": {},
   "outputs": [
    {
     "name": "stdout",
     "output_type": "stream",
     "text": [
      "Area: 78.53981633974483\n",
      "Circumference: 31.41592653589793\n"
     ]
    }
   ],
   "source": [
    "# question no 3:\n",
    "import math\n",
    "\n",
    "class Circle:\n",
    "    def __init__(self, radius):\n",
    "        self.radius = radius  \n",
    "\n",
    "    def area(self):\n",
    "        \"\"\"Method to calculate and return the area of the circle.\"\"\"\n",
    "        return math.pi * (self.radius ** 2)\n",
    "\n",
    "    def circumference(self):\n",
    "        \"\"\"Method to calculate and return the circumference of the circle.\"\"\"\n",
    "        return 2 * math.pi * self.radius\n",
    "\n",
    "circle1 = Circle(5)\n",
    "print(\"Area:\", circle1.area()) \n",
    "print(\"Circumference:\", circle1.circumference()) \n"
   ]
  },
  {
   "cell_type": "code",
   "execution_count": 12,
   "id": "ce0a7455",
   "metadata": {},
   "outputs": [
    {
     "name": "stdout",
     "output_type": "stream",
     "text": [
      "Area: 50\n",
      "Perimeter: 30\n"
     ]
    }
   ],
   "source": [
    "# question no 4:\n",
    "class Rectangle:\n",
    "    def __init__(self, length, width):\n",
    "        self.length = length\n",
    "        self.width = width    \n",
    "    def area(self):\n",
    "        \"\"\"Method to calculate and return the area of the rectangle.\"\"\"\n",
    "        return self.length * self.width\n",
    "    def perimeter(self):\n",
    "        \"\"\"Method to calculate and return the perimeter of the rectangle.\"\"\"\n",
    "        return 2 * (self.length + self.width)\n",
    "rectangle1 = Rectangle(10, 5)  \n",
    "print(\"Area:\", rectangle1.area())  \n",
    "print(\"Perimeter:\", rectangle1.perimeter())  \n"
   ]
  },
  {
   "cell_type": "code",
   "execution_count": 13,
   "id": "950d28af",
   "metadata": {},
   "outputs": [
    {
     "name": "stdout",
     "output_type": "stream",
     "text": [
      "Average Marks: 86.25\n"
     ]
    }
   ],
   "source": [
    "# question no 5:\n",
    "class Student:\n",
    "    def __init__(self, name, roll_number, marks):\n",
    "        self.name = name  \n",
    "        self.roll_number = roll_number  \n",
    "        self.marks = marks \n",
    "    def average_marks(self):\n",
    "        \"\"\"Method to calculate and return the average marks.\"\"\"\n",
    "        if len(self.marks) == 0:\n",
    "            return 0  \n",
    "        return sum(self.marks) / len(self.marks)\n",
    "student1 = Student(\"Alice\", 101, [85, 90, 78, 92])  \n",
    "print(\"Average Marks:\", student1.average_marks())  \n"
   ]
  },
  {
   "cell_type": "code",
   "execution_count": 14,
   "id": "62e53f8d",
   "metadata": {},
   "outputs": [
    {
     "name": "stdout",
     "output_type": "stream",
     "text": [
      "Title: 1984\n",
      "Author: George Orwell\n",
      "Publication Year: 1949\n"
     ]
    }
   ],
   "source": [
    "# question no 6:\n",
    "class Book:\n",
    "    def __init__(self, title, author, publication_year):\n",
    "        self.title = title  \n",
    "        self.author = author  \n",
    "        self.publication_year = publication_year\n",
    "    def display_info(self):\n",
    "        print(f\"Title: {self.title}\")\n",
    "        print(f\"Author: {self.author}\")\n",
    "        print(f\"Publication Year: {self.publication_year}\")\n",
    "book1 = Book(\"1984\", \"George Orwell\", 1949)\n",
    "book1.display_info()\n"
   ]
  },
  {
   "cell_type": "code",
   "execution_count": 16,
   "id": "f494890c",
   "metadata": {},
   "outputs": [
    {
     "name": "stdout",
     "output_type": "stream",
     "text": [
      "Name: zaha\n",
      "Salary: 50000\n",
      "Designation: Software Engineer\n"
     ]
    }
   ],
   "source": [
    "# question no 7:\n",
    "class Employee:\n",
    "    def __init__(self, name, salary, designation):\n",
    "        self.name = name  \n",
    "        self.salary = salary\n",
    "        self.designation = designation  \n",
    "    def display_info(self):\n",
    "        print(f\"Name: {self.name}\")\n",
    "        print(f\"Salary: {self.salary}\")\n",
    "        print(f\"Designation: {self.designation}\")\n",
    "employee1 = Employee(\"zaha\", 50000, \"Software Engineer\")\n",
    "employee1.display_info()\n"
   ]
  },
  {
   "cell_type": "code",
   "execution_count": 17,
   "id": "40c5b12b",
   "metadata": {},
   "outputs": [
    {
     "name": "stdout",
     "output_type": "stream",
     "text": [
      "Account Holder: Alice\n",
      "Account Number: 1234567890\n",
      "Balance: 1000\n",
      "Deposited 500. New balance: 1500\n",
      "Withdrew 200. New balance: 1300\n",
      "Insufficient funds!\n"
     ]
    }
   ],
   "source": [
    "# question no 8:\n",
    "class Bank:\n",
    "    def __init__(self, name, account_number, balance=0):\n",
    "        self.name = name  \n",
    "        self.account_number = account_number  \n",
    "        self.balance = balance  \n",
    "    def deposit(self, amount):\n",
    "        \"\"\"Method to deposit money into the account.\"\"\"\n",
    "        if amount > 0:\n",
    "            self.balance += amount\n",
    "            print(f\"Deposited {amount}. New balance: {self.balance}\")\n",
    "        else:\n",
    "            print(\"Deposit amount must be positive.\")\n",
    "\n",
    "    def withdraw(self, amount):\n",
    "        \"\"\"Method to withdraw money from the account.\"\"\"\n",
    "        if amount > 0:\n",
    "            if amount <= self.balance:\n",
    "                self.balance -= amount\n",
    "                print(f\"Withdrew {amount}. New balance: {self.balance}\")\n",
    "            else:\n",
    "                print(\"Insufficient funds!\")\n",
    "        else:\n",
    "            print(\"Withdrawal amount must be positive.\")\n",
    "\n",
    "    def display_info(self):\n",
    "        \"\"\"Method to display account information.\"\"\"\n",
    "        print(f\"Account Holder: {self.name}\")\n",
    "        print(f\"Account Number: {self.account_number}\")\n",
    "        print(f\"Balance: {self.balance}\")\n",
    "account1 = Bank(\"Alice\", \"1234567890\", 1000)\n",
    "account1.display_info()\n",
    "account1.deposit(500)\n",
    "account1.withdraw(200)\n",
    "account1.withdraw(1500) \n"
   ]
  }
 ],
 "metadata": {
  "kernelspec": {
   "display_name": "Python 3 (ipykernel)",
   "language": "python",
   "name": "python3"
  },
  "language_info": {
   "codemirror_mode": {
    "name": "ipython",
    "version": 3
   },
   "file_extension": ".py",
   "mimetype": "text/x-python",
   "name": "python",
   "nbconvert_exporter": "python",
   "pygments_lexer": "ipython3",
   "version": "3.11.5"
  }
 },
 "nbformat": 4,
 "nbformat_minor": 5
}
